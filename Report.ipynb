{
 "cells": [
  {
   "cell_type": "markdown",
   "metadata": {},
   "source": [
    "<p align=\"center\">\n",
    "\n",
    "# **Variational Autoencoder (VAE) for image denoising and generation**\n",
    "\n",
    "</p>\n",
    "\n",
    "\n",
    "## **Autoencoders's applications**\n",
    "1. Dimensionality Reduction\n",
    "2. Feature Extraction\n",
    "3. *Image Denoising*\n",
    "4. Image Compression\n",
    "5. Image Search\n",
    "6. Anomaly Detection\n",
    "7. Missing Value Imputation\n",
    "8. *Synthetic data generation*\n",
    "\n",
    "## **Convolutional Autoencoders**\n",
    "![Convolutional Autoencoder](cae.svg)\n",
    "\n",
    "### **Components**\n",
    "\n",
    "1. **Encoder**\n",
    "\n",
    "2. **Latent representation**\n",
    "\n",
    "2. **Decoder**\n",
    "\n",
    "\n",
    "\n",
    "\n",
    "\n",
    "\n",
    "\n",
    "## **Variational Convolutional Autoencoders**\n",
    "\n",
    "Variational Autoencoders (VAEs) can be regarded as enhanced Autoencoders where a Bayesian approach is used to learn the probability distribution of the input data.\n",
    "\n",
    "\n",
    "![VAE](vae.png)\n",
    "\n",
    "\n",
    "\n",
    "\n",
    "\n"
   ]
  },
  {
   "cell_type": "markdown",
   "metadata": {},
   "source": []
  }
 ],
 "metadata": {
  "language_info": {
   "name": "python"
  },
  "orig_nbformat": 4
 },
 "nbformat": 4,
 "nbformat_minor": 2
}
