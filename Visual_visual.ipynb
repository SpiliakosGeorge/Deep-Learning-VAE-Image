{
 "cells": [
  {
   "cell_type": "code",
   "execution_count": null,
   "outputs": [],
   "source": [
    "from Plot import *\n",
    "from FashionDataloader import *\n",
    "from Sampling import *"
   ],
   "metadata": {
    "collapsed": false,
    "pycharm": {
     "name": "#%%\n"
    }
   }
  },
  {
   "cell_type": "code",
   "execution_count": null,
   "outputs": [],
   "source": [
    "#plot_latent_space_with_labels\n",
    "NUM_CLASSES = 10\n",
    "DATALOADER = get_FashionMNIST_dataloaders(18)[0]\n",
    "ENCODING_FN = model.encoding_fn\n",
    "DEVICE = torch.device('cuda' if torch.cuda.is_available() else 'cpu')\n",
    "\n",
    "plot_latent_space_with_labels(\n",
    "    num_classes=NUM_CLASSES,\n",
    "    data_loader=DATALOADER,\n",
    "    encoding_fn=ENCODING_FN, \n",
    "    device=DEVICE)\n",
    "\n",
    "plt.legend()\n",
    "plt.show()"
   ],
   "metadata": {
    "collapsed": false,
    "pycharm": {
     "name": "#%%\n"
    }
   }
  },
  {
   "cell_type": "code",
   "execution_count": null,
   "outputs": [],
   "source": [
    "#plot_images_sampled_from_vae\n",
    "MODEL = model\n",
    "DEVICE = torch.device('cuda' if torch.cuda.is_available() else 'cpu')\n",
    "LATENT_SIZE = 10\n",
    "UNNORMALIZER = None\n",
    "NUM_IMAGES = 10\n",
    "\n",
    "for i in range(10):\n",
    "    plot_images_sampled_from_vae(model=model, device=DEVICE, latent_size=LATENT_SIZE)\n",
    "    plt.show()\n",
    "\n"
   ],
   "metadata": {
    "collapsed": false,
    "pycharm": {
     "name": "#%%\n"
    }
   }
  },
  {
   "cell_type": "code",
   "execution_count": null,
   "outputs": [],
   "source": [
    "#plot_generated_images\n",
    "DATALOADER = get_FashionMNIST_dataloaders(18)[0]\n",
    "MODEL = model\n",
    "DEVICE = torch.device('cuda' if torch.cuda.is_available() else 'cpu')\n",
    "UNNORMALIZER = None\n",
    "NUM_IMAGES = 10\n",
    "FIG_SIZE = (20, 2.5)\n",
    "MODEL_TYPE = 'VAE'\n",
    "\n",
    "plot_generated_images(data_loader=DATALOADER, model=MODEL, device=DEVICE, modeltype='VAE')\n"
   ],
   "metadata": {
    "collapsed": false,
    "pycharm": {
     "name": "#%%\n"
    }
   }
  },
  {
   "cell_type": "code",
   "execution_count": null,
   "outputs": [],
   "source": [],
   "metadata": {
    "collapsed": false,
    "pycharm": {
     "name": "#%%\n"
    }
   }
  }
 ],
 "metadata": {
  "kernelspec": {
   "display_name": "Python 3",
   "language": "python",
   "name": "python3"
  },
  "language_info": {
   "codemirror_mode": {
    "name": "ipython",
    "version": 2
   },
   "file_extension": ".py",
   "mimetype": "text/x-python",
   "name": "python",
   "nbconvert_exporter": "python",
   "pygments_lexer": "ipython2",
   "version": "2.7.6"
  }
 },
 "nbformat": 4,
 "nbformat_minor": 0
}